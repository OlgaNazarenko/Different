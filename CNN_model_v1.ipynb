{
  "nbformat": 4,
  "nbformat_minor": 0,
  "metadata": {
    "colab": {
      "provenance": [],
      "gpuType": "T4"
    },
    "kernelspec": {
      "name": "python3",
      "display_name": "Python 3"
    },
    "language_info": {
      "name": "python"
    },
    "accelerator": "GPU"
  },
  "cells": [
    {
      "cell_type": "code",
      "execution_count": null,
      "metadata": {
        "id": "UBMdVF9JIj9s"
      },
      "outputs": [],
      "source": [
        "import tensorflow as tf\n",
        "from tensorflow import keras\n",
        "from tensorflow.keras import datasets, layers, models\n",
        "from keras.models import Sequential\n",
        "from tensorflow.keras.layers import Dense, Flatten, Conv2D, MaxPooling2D, Dropout, BatchNormalization, LeakyReLU, Activation\n",
        "import matplotlib.pyplot as plt\n",
        "import numpy as np\n",
        "from tensorflow.keras import datasets\n",
        "from sklearn.model_selection import train_test_split\n",
        "\n",
        "from keras.optimizers import SGD"
      ]
    },
    {
      "cell_type": "code",
      "source": [
        "(x_train, y_train), (x_test, y_test) = datasets.cifar10.load_data()\n",
        "\n",
        "print('x_train shape:', x_train.shape)\n",
        "print('y_train shape:', y_train.shape)\n",
        "print(x_train.shape[0], 'train samples')\n",
        "print(x_test.shape[0], 'test samples')"
      ],
      "metadata": {
        "id": "3z0SYk-PI8sM",
        "colab": {
          "base_uri": "https://localhost:8080/"
        },
        "outputId": "78db7ec8-d053-4c55-b9b3-981b2d1c6c56"
      },
      "execution_count": null,
      "outputs": [
        {
          "output_type": "stream",
          "name": "stdout",
          "text": [
            "x_train shape: (50000, 32, 32, 3)\n",
            "y_train shape: (50000, 1)\n",
            "50000 train samples\n",
            "10000 test samples\n"
          ]
        }
      ]
    },
    {
      "cell_type": "code",
      "source": [
        "x_train, x_val, y_train, y_val = train_test_split(x_train, y_train, test_size = 0.3, random_state = 42)\n",
        "\n",
        "x_train.shape, x_val.shape, y_train.shape, y_val.shape"
      ],
      "metadata": {
        "colab": {
          "base_uri": "https://localhost:8080/"
        },
        "id": "WDMf88jBrJit",
        "outputId": "270794aa-1a20-4f6c-edcb-f755886963a8"
      },
      "execution_count": null,
      "outputs": [
        {
          "output_type": "execute_result",
          "data": {
            "text/plain": [
              "((35000, 32, 32, 3), (15000, 32, 32, 3), (35000, 1), (15000, 1))"
            ]
          },
          "metadata": {},
          "execution_count": 36
        }
      ]
    },
    {
      "cell_type": "code",
      "source": [
        "# Convert class vectors to binary class matrices. This is called one hot encoding.\n",
        "num_classes = 10\n",
        "\n",
        "y_train = keras.utils.to_categorical(y_train, num_classes)\n",
        "y_test = keras.utils.to_categorical(y_test, num_classes)\n",
        "y_val = keras.utils.to_categorical(y_val, num_classes)\n",
        "print(y_train.shape, y_val.shape)"
      ],
      "metadata": {
        "colab": {
          "base_uri": "https://localhost:8080/"
        },
        "id": "qIWcK4JsW-HZ",
        "outputId": "d808a0ac-ec84-4fe8-fa67-873bb51839c9"
      },
      "execution_count": null,
      "outputs": [
        {
          "output_type": "stream",
          "name": "stdout",
          "text": [
            "(35000, 10) (15000, 10)\n"
          ]
        }
      ]
    },
    {
      "cell_type": "code",
      "source": [
        "# Normalize the data. Before we need to convert data type to float for computation.\n",
        "x_train = x_train.astype('float32')\n",
        "x_test = x_test.astype('float32')\n",
        "\n",
        "x_train /= 255\n",
        "x_test /= 255"
      ],
      "metadata": {
        "id": "MdjFgE6K1nCQ"
      },
      "execution_count": null,
      "outputs": []
    },
    {
      "cell_type": "code",
      "source": [
        "print(x_train.shape)\n",
        "print(y_train.shape)"
      ],
      "metadata": {
        "colab": {
          "base_uri": "https://localhost:8080/"
        },
        "id": "dBeizv963fPA",
        "outputId": "9e61e403-7e49-470b-e5f4-e0e590343804"
      },
      "execution_count": null,
      "outputs": [
        {
          "output_type": "stream",
          "name": "stdout",
          "text": [
            "(35000, 32, 32, 3)\n",
            "(35000, 10)\n"
          ]
        }
      ]
    },
    {
      "cell_type": "code",
      "source": [
        "def custom_leaky_relu(x):\n",
        "    return LeakyReLU(0.1)(x)\n",
        "\n",
        "model = Sequential()\n",
        "\n",
        "model.add(Conv2D(32, (3, 3), input_shape=(32, 32, 3)))\n",
        "model.add(BatchNormalization())\n",
        "model.add(Activation(custom_leaky_relu))\n",
        "\n",
        "model.add(Conv2D(64, (3, 3)))\n",
        "model.add(BatchNormalization())\n",
        "model.add(Activation(custom_leaky_relu))\n",
        "\n",
        "model.add(MaxPooling2D(pool_size=(2, 2)))\n",
        "\n",
        "model.add(Conv2D(128, (3, 3)))\n",
        "model.add(BatchNormalization())\n",
        "model.add(Activation(custom_leaky_relu))\n",
        "\n",
        "model.add(Conv2D(256, (3, 3)))\n",
        "model.add(BatchNormalization())\n",
        "model.add(Activation(custom_leaky_relu))\n",
        "\n",
        "model.add(MaxPooling2D(pool_size=(2, 2)))\n",
        "model.add(Dropout(0.25))\n",
        "\n",
        "model.add(Conv2D(256, (3, 3)))\n",
        "model.add(BatchNormalization())\n",
        "model.add(Activation(custom_leaky_relu))\n",
        "\n",
        "model.add(Conv2D(512, (3, 3)))\n",
        "model.add(BatchNormalization())\n",
        "model.add(Activation(custom_leaky_relu))\n",
        "\n",
        "model.add(Flatten())\n",
        "\n",
        "model.add(Dense(256))\n",
        "model.add(BatchNormalization())\n",
        "model.add(Activation(custom_leaky_relu))\n",
        "model.add(Dropout(0.5))\n",
        "\n",
        "model.add(Dense(10, activation='softmax'))\n",
        "model.summary()"
      ],
      "metadata": {
        "id": "uoaFeQ-znHd2",
        "colab": {
          "base_uri": "https://localhost:8080/"
        },
        "outputId": "e589ff08-5fe7-46a3-81d9-afc473a4d92e"
      },
      "execution_count": null,
      "outputs": [
        {
          "output_type": "stream",
          "name": "stdout",
          "text": [
            "Model: \"sequential_5\"\n",
            "_________________________________________________________________\n",
            " Layer (type)                Output Shape              Param #   \n",
            "=================================================================\n",
            " conv2d_28 (Conv2D)          (None, 30, 30, 32)        896       \n",
            "                                                                 \n",
            " batch_normalization_14 (Bat  (None, 30, 30, 32)       128       \n",
            " chNormalization)                                                \n",
            "                                                                 \n",
            " activation_14 (Activation)  (None, 30, 30, 32)        0         \n",
            "                                                                 \n",
            " conv2d_29 (Conv2D)          (None, 28, 28, 64)        18496     \n",
            "                                                                 \n",
            " batch_normalization_15 (Bat  (None, 28, 28, 64)       256       \n",
            " chNormalization)                                                \n",
            "                                                                 \n",
            " activation_15 (Activation)  (None, 28, 28, 64)        0         \n",
            "                                                                 \n",
            " max_pooling2d_11 (MaxPoolin  (None, 14, 14, 64)       0         \n",
            " g2D)                                                            \n",
            "                                                                 \n",
            " conv2d_30 (Conv2D)          (None, 12, 12, 128)       73856     \n",
            "                                                                 \n",
            " batch_normalization_16 (Bat  (None, 12, 12, 128)      512       \n",
            " chNormalization)                                                \n",
            "                                                                 \n",
            " activation_16 (Activation)  (None, 12, 12, 128)       0         \n",
            "                                                                 \n",
            " conv2d_31 (Conv2D)          (None, 10, 10, 256)       295168    \n",
            "                                                                 \n",
            " batch_normalization_17 (Bat  (None, 10, 10, 256)      1024      \n",
            " chNormalization)                                                \n",
            "                                                                 \n",
            " activation_17 (Activation)  (None, 10, 10, 256)       0         \n",
            "                                                                 \n",
            " max_pooling2d_12 (MaxPoolin  (None, 5, 5, 256)        0         \n",
            " g2D)                                                            \n",
            "                                                                 \n",
            " dropout_10 (Dropout)        (None, 5, 5, 256)         0         \n",
            "                                                                 \n",
            " conv2d_32 (Conv2D)          (None, 3, 3, 256)         590080    \n",
            "                                                                 \n",
            " batch_normalization_18 (Bat  (None, 3, 3, 256)        1024      \n",
            " chNormalization)                                                \n",
            "                                                                 \n",
            " activation_18 (Activation)  (None, 3, 3, 256)         0         \n",
            "                                                                 \n",
            " conv2d_33 (Conv2D)          (None, 1, 1, 512)         1180160   \n",
            "                                                                 \n",
            " batch_normalization_19 (Bat  (None, 1, 1, 512)        2048      \n",
            " chNormalization)                                                \n",
            "                                                                 \n",
            " activation_19 (Activation)  (None, 1, 1, 512)         0         \n",
            "                                                                 \n",
            " flatten_4 (Flatten)         (None, 512)               0         \n",
            "                                                                 \n",
            " dense_8 (Dense)             (None, 256)               131328    \n",
            "                                                                 \n",
            " batch_normalization_20 (Bat  (None, 256)              1024      \n",
            " chNormalization)                                                \n",
            "                                                                 \n",
            " activation_20 (Activation)  (None, 256)               0         \n",
            "                                                                 \n",
            " dropout_11 (Dropout)        (None, 256)               0         \n",
            "                                                                 \n",
            " dense_9 (Dense)             (None, 10)                2570      \n",
            "                                                                 \n",
            "=================================================================\n",
            "Total params: 2,298,570\n",
            "Trainable params: 2,295,562\n",
            "Non-trainable params: 3,008\n",
            "_________________________________________________________________\n"
          ]
        }
      ]
    },
    {
      "cell_type": "code",
      "source": [
        "from tensorflow.keras.optimizers import Adam\n",
        "\n",
        "optimizer = Adam(learning_rate=0.001)\n",
        "\n",
        "model.compile(optimizer=optimizer,\n",
        "              loss='categorical_crossentropy',\n",
        "              metrics=['accuracy'])"
      ],
      "metadata": {
        "id": "ciVsgv3vdmaK"
      },
      "execution_count": null,
      "outputs": []
    },
    {
      "cell_type": "code",
      "source": [
        "from tensorflow.keras.callbacks import ReduceLROnPlateau\n",
        "from tensorflow.keras.preprocessing.image import ImageDataGenerator\n",
        "\n",
        "datagen = ImageDataGenerator(\n",
        "    rotation_range=15,\n",
        "    width_shift_range=0.1,\n",
        "    height_shift_range=0.1,\n",
        "    horizontal_flip=True,\n",
        "    validation_split=0.2\n",
        ")\n",
        "\n",
        "datagen.fit(x_train)\n",
        "\n",
        "\n",
        "history = model.fit(\n",
        "    datagen.flow(x_train, y_train, batch_size=128, subset='training'),\n",
        "    epochs=50,\n",
        "    validation_data=datagen.flow(x_train, y_train, batch_size=128)\n",
        ")\n",
        "\n",
        "# history = model.fit(x_train, y_train, epochs=20,\n",
        "#                     validation_data=(x_val, y_val))"
      ],
      "metadata": {
        "colab": {
          "base_uri": "https://localhost:8080/"
        },
        "id": "1iFlMt3FrUzQ",
        "outputId": "a9975b17-f808-4b08-ffca-02ff929a8144"
      },
      "execution_count": null,
      "outputs": [
        {
          "output_type": "stream",
          "name": "stdout",
          "text": [
            "Epoch 1/50\n",
            "219/219 [==============================] - 90s 158ms/step - loss: 1.7053 - accuracy: 0.4011 - val_loss: 3.8013 - val_accuracy: 0.1191\n",
            "Epoch 2/50\n",
            "219/219 [==============================] - 34s 157ms/step - loss: 1.2774 - accuracy: 0.5468 - val_loss: 2.3558 - val_accuracy: 0.3067\n",
            "Epoch 3/50\n",
            "219/219 [==============================] - 34s 158ms/step - loss: 1.0889 - accuracy: 0.6152 - val_loss: 1.3516 - val_accuracy: 0.5371\n",
            "Epoch 4/50\n",
            "219/219 [==============================] - 34s 157ms/step - loss: 0.9683 - accuracy: 0.6571 - val_loss: 1.0546 - val_accuracy: 0.6238\n",
            "Epoch 5/50\n",
            "219/219 [==============================] - 34s 154ms/step - loss: 0.8825 - accuracy: 0.6894 - val_loss: 0.8678 - val_accuracy: 0.6954\n",
            "Epoch 6/50\n",
            "219/219 [==============================] - 35s 159ms/step - loss: 0.8324 - accuracy: 0.7114 - val_loss: 1.0229 - val_accuracy: 0.6413\n",
            "Epoch 7/50\n",
            "219/219 [==============================] - 34s 156ms/step - loss: 0.7856 - accuracy: 0.7261 - val_loss: 1.0232 - val_accuracy: 0.6405\n",
            "Epoch 8/50\n",
            "219/219 [==============================] - 34s 157ms/step - loss: 0.7506 - accuracy: 0.7383 - val_loss: 0.9027 - val_accuracy: 0.6839\n",
            "Epoch 9/50\n",
            "219/219 [==============================] - 34s 157ms/step - loss: 0.7175 - accuracy: 0.7497 - val_loss: 0.7069 - val_accuracy: 0.7531\n",
            "Epoch 10/50\n",
            "219/219 [==============================] - 34s 154ms/step - loss: 0.6903 - accuracy: 0.7600 - val_loss: 0.8282 - val_accuracy: 0.7099\n",
            "Epoch 11/50\n",
            "219/219 [==============================] - 35s 158ms/step - loss: 0.6571 - accuracy: 0.7696 - val_loss: 0.8359 - val_accuracy: 0.7067\n",
            "Epoch 12/50\n",
            "219/219 [==============================] - 35s 158ms/step - loss: 0.6450 - accuracy: 0.7766 - val_loss: 0.7893 - val_accuracy: 0.7316\n",
            "Epoch 13/50\n",
            "219/219 [==============================] - 35s 159ms/step - loss: 0.6174 - accuracy: 0.7883 - val_loss: 0.7886 - val_accuracy: 0.7212\n",
            "Epoch 14/50\n",
            "219/219 [==============================] - 35s 160ms/step - loss: 0.5910 - accuracy: 0.7948 - val_loss: 0.7000 - val_accuracy: 0.7558\n",
            "Epoch 15/50\n",
            "219/219 [==============================] - 35s 159ms/step - loss: 0.5764 - accuracy: 0.7999 - val_loss: 0.5926 - val_accuracy: 0.7937\n",
            "Epoch 16/50\n",
            "219/219 [==============================] - 34s 156ms/step - loss: 0.5556 - accuracy: 0.8070 - val_loss: 0.7144 - val_accuracy: 0.7596\n",
            "Epoch 17/50\n",
            "219/219 [==============================] - 36s 166ms/step - loss: 0.5470 - accuracy: 0.8085 - val_loss: 0.5897 - val_accuracy: 0.7970\n",
            "Epoch 18/50\n",
            "219/219 [==============================] - 38s 174ms/step - loss: 0.5336 - accuracy: 0.8152 - val_loss: 0.6289 - val_accuracy: 0.7767\n",
            "Epoch 19/50\n",
            "219/219 [==============================] - 35s 162ms/step - loss: 0.5037 - accuracy: 0.8232 - val_loss: 0.6264 - val_accuracy: 0.7847\n",
            "Epoch 20/50\n",
            "219/219 [==============================] - 35s 161ms/step - loss: 0.5035 - accuracy: 0.8258 - val_loss: 0.6009 - val_accuracy: 0.7888\n",
            "Epoch 21/50\n",
            "219/219 [==============================] - 35s 161ms/step - loss: 0.4948 - accuracy: 0.8294 - val_loss: 0.6013 - val_accuracy: 0.7888\n",
            "Epoch 22/50\n",
            "219/219 [==============================] - 35s 160ms/step - loss: 0.4750 - accuracy: 0.8334 - val_loss: 0.5622 - val_accuracy: 0.8030\n",
            "Epoch 23/50\n",
            "219/219 [==============================] - 37s 171ms/step - loss: 0.4614 - accuracy: 0.8384 - val_loss: 0.5779 - val_accuracy: 0.7977\n",
            "Epoch 24/50\n",
            "219/219 [==============================] - 35s 160ms/step - loss: 0.4525 - accuracy: 0.8403 - val_loss: 0.6130 - val_accuracy: 0.7905\n",
            "Epoch 25/50\n",
            "219/219 [==============================] - 35s 161ms/step - loss: 0.4411 - accuracy: 0.8483 - val_loss: 0.5368 - val_accuracy: 0.8143\n",
            "Epoch 26/50\n",
            "219/219 [==============================] - 35s 160ms/step - loss: 0.4263 - accuracy: 0.8507 - val_loss: 0.4597 - val_accuracy: 0.8400\n",
            "Epoch 27/50\n",
            "219/219 [==============================] - 35s 160ms/step - loss: 0.4141 - accuracy: 0.8558 - val_loss: 0.4798 - val_accuracy: 0.8361\n",
            "Epoch 28/50\n",
            "219/219 [==============================] - 34s 155ms/step - loss: 0.4003 - accuracy: 0.8616 - val_loss: 0.5632 - val_accuracy: 0.8102\n",
            "Epoch 29/50\n",
            "219/219 [==============================] - 35s 161ms/step - loss: 0.3919 - accuracy: 0.8637 - val_loss: 0.4319 - val_accuracy: 0.8494\n",
            "Epoch 30/50\n",
            "219/219 [==============================] - 35s 158ms/step - loss: 0.3895 - accuracy: 0.8640 - val_loss: 0.5361 - val_accuracy: 0.8211\n",
            "Epoch 31/50\n",
            "219/219 [==============================] - 34s 155ms/step - loss: 0.3732 - accuracy: 0.8700 - val_loss: 0.4856 - val_accuracy: 0.8325\n",
            "Epoch 32/50\n",
            "219/219 [==============================] - 35s 161ms/step - loss: 0.3688 - accuracy: 0.8705 - val_loss: 0.5317 - val_accuracy: 0.8189\n",
            "Epoch 33/50\n",
            "219/219 [==============================] - 36s 163ms/step - loss: 0.3541 - accuracy: 0.8768 - val_loss: 0.3605 - val_accuracy: 0.8740\n",
            "Epoch 34/50\n",
            "219/219 [==============================] - 35s 158ms/step - loss: 0.3590 - accuracy: 0.8743 - val_loss: 0.3762 - val_accuracy: 0.8713\n",
            "Epoch 35/50\n",
            "219/219 [==============================] - 34s 157ms/step - loss: 0.3454 - accuracy: 0.8806 - val_loss: 0.3763 - val_accuracy: 0.8717\n",
            "Epoch 36/50\n",
            "219/219 [==============================] - 35s 161ms/step - loss: 0.3388 - accuracy: 0.8806 - val_loss: 0.3598 - val_accuracy: 0.8739\n",
            "Epoch 37/50\n",
            "219/219 [==============================] - 38s 176ms/step - loss: 0.3217 - accuracy: 0.8879 - val_loss: 0.4112 - val_accuracy: 0.8556\n",
            "Epoch 38/50\n",
            "219/219 [==============================] - 35s 160ms/step - loss: 0.3267 - accuracy: 0.8849 - val_loss: 0.3675 - val_accuracy: 0.8729\n",
            "Epoch 39/50\n",
            "219/219 [==============================] - 34s 157ms/step - loss: 0.3172 - accuracy: 0.8901 - val_loss: 0.3878 - val_accuracy: 0.8659\n",
            "Epoch 40/50\n",
            "219/219 [==============================] - 35s 159ms/step - loss: 0.3034 - accuracy: 0.8939 - val_loss: 0.3848 - val_accuracy: 0.8689\n",
            "Epoch 41/50\n",
            "219/219 [==============================] - 38s 175ms/step - loss: 0.3001 - accuracy: 0.8947 - val_loss: 0.3684 - val_accuracy: 0.8729\n",
            "Epoch 42/50\n",
            "219/219 [==============================] - 34s 157ms/step - loss: 0.2988 - accuracy: 0.8965 - val_loss: 0.3442 - val_accuracy: 0.8812\n",
            "Epoch 43/50\n",
            "219/219 [==============================] - 34s 157ms/step - loss: 0.2916 - accuracy: 0.8986 - val_loss: 0.3706 - val_accuracy: 0.8741\n",
            "Epoch 44/50\n",
            "219/219 [==============================] - 34s 158ms/step - loss: 0.2962 - accuracy: 0.8955 - val_loss: 0.3896 - val_accuracy: 0.8661\n",
            "Epoch 45/50\n",
            "219/219 [==============================] - 34s 158ms/step - loss: 0.2741 - accuracy: 0.9029 - val_loss: 0.3259 - val_accuracy: 0.8863\n",
            "Epoch 46/50\n",
            "219/219 [==============================] - 37s 170ms/step - loss: 0.2780 - accuracy: 0.9025 - val_loss: 0.3918 - val_accuracy: 0.8700\n",
            "Epoch 47/50\n",
            "219/219 [==============================] - 34s 157ms/step - loss: 0.2686 - accuracy: 0.9062 - val_loss: 0.3257 - val_accuracy: 0.8890\n",
            "Epoch 48/50\n",
            "219/219 [==============================] - 34s 157ms/step - loss: 0.2698 - accuracy: 0.9055 - val_loss: 0.3356 - val_accuracy: 0.8860\n",
            "Epoch 49/50\n",
            "219/219 [==============================] - 35s 160ms/step - loss: 0.2559 - accuracy: 0.9095 - val_loss: 0.3318 - val_accuracy: 0.8882\n",
            "Epoch 50/50\n",
            "219/219 [==============================] - 35s 160ms/step - loss: 0.2517 - accuracy: 0.9123 - val_loss: 0.3155 - val_accuracy: 0.8943\n"
          ]
        }
      ]
    },
    {
      "cell_type": "code",
      "source": [
        "test_eval = model.evaluate(x_test, y_test, verbose=2)\n",
        "\n",
        "print('Test loss:', test_eval[0])\n",
        "print('Test accuracy:', test_eval[1])"
      ],
      "metadata": {
        "colab": {
          "base_uri": "https://localhost:8080/"
        },
        "id": "rTttzjVSzY8R",
        "outputId": "8beac590-7c55-4ecc-e365-f6010df9e275"
      },
      "execution_count": null,
      "outputs": [
        {
          "output_type": "stream",
          "name": "stdout",
          "text": [
            "313/313 - 2s - loss: 0.5041 - accuracy: 0.8478 - 2s/epoch - 6ms/step\n",
            "Test loss: 0.504051685333252\n",
            "Test accuracy: 0.8478000164031982\n"
          ]
        }
      ]
    },
    {
      "cell_type": "code",
      "source": [
        "val_eval = model.evaluate(x_val, y_val, verbose=2)\n",
        "\n",
        "print('Val loss:', val_eval[0])\n",
        "print('Val accuracy:', val_eval[1])"
      ],
      "metadata": {
        "colab": {
          "base_uri": "https://localhost:8080/"
        },
        "id": "cyU39GDFpGUg",
        "outputId": "71d462e0-1cef-4797-91af-5d8190af1410"
      },
      "execution_count": null,
      "outputs": [
        {
          "output_type": "stream",
          "name": "stdout",
          "text": [
            "469/469 - 2s - loss: 251.7289 - accuracy: 0.4426 - 2s/epoch - 4ms/step\n",
            "Val loss: 251.72885131835938\n",
            "Val accuracy: 0.4426000118255615\n"
          ]
        }
      ]
    },
    {
      "cell_type": "code",
      "source": [
        "train_eval = model.evaluate(x_train, y_train, verbose=2)\n",
        "\n",
        "print('Train loss:', train_eval[0])\n",
        "print('Train accuracy:', train_eval[1])"
      ],
      "metadata": {
        "colab": {
          "base_uri": "https://localhost:8080/"
        },
        "id": "h7G3_iKLAqcH",
        "outputId": "3efa9dc8-088e-4b6b-a960-795608d345ad"
      },
      "execution_count": null,
      "outputs": [
        {
          "output_type": "stream",
          "name": "stdout",
          "text": [
            "1094/1094 - 5s - loss: 0.2395 - accuracy: 0.9193 - 5s/epoch - 4ms/step\n",
            "Train loss: 0.2394987940788269\n",
            "Train accuracy: 0.9193142652511597\n"
          ]
        }
      ]
    },
    {
      "cell_type": "code",
      "source": [],
      "metadata": {
        "id": "bOr3k5hZAqT8"
      },
      "execution_count": null,
      "outputs": []
    },
    {
      "cell_type": "code",
      "source": [
        "def plotmodelhistory(history):\n",
        "    fig, axs = plt.subplots(1,2,figsize=(15,5))\n",
        "    # summarize history for accuracy\n",
        "    axs[0].plot(history.history['accuracy'])\n",
        "    axs[0].plot(history.history['val_accuracy'])\n",
        "    axs[0].set_title('Model Accuracy')\n",
        "    axs[0].set_ylabel('Accuracy')\n",
        "    axs[0].set_xlabel('Epoch')\n",
        "    axs[0].legend(['train', 'validate'], loc='upper left')\n",
        "    # summarize history for loss\n",
        "    axs[1].plot(history.history['loss'])\n",
        "    axs[1].plot(history.history['val_loss'])\n",
        "    axs[1].set_title('Model Loss')\n",
        "    axs[1].set_ylabel('Loss')\n",
        "    axs[1].set_xlabel('Epoch')\n",
        "    axs[1].legend(['train', 'validate'], loc='upper left')\n",
        "    plt.show()\n",
        "\n",
        "# list all data in history\n",
        "print(history.history.keys())\n",
        "\n",
        "plotmodelhistory(history)"
      ],
      "metadata": {
        "colab": {
          "base_uri": "https://localhost:8080/",
          "height": 504
        },
        "id": "_j4ZhaLaqzwR",
        "outputId": "60ecc987-ada8-4749-b14d-e2f58135a0d6"
      },
      "execution_count": null,
      "outputs": [
        {
          "output_type": "stream",
          "name": "stdout",
          "text": [
            "dict_keys(['loss', 'accuracy', 'val_loss', 'val_accuracy'])\n"
          ]
        },
        {
          "output_type": "display_data",
          "data": {
            "text/plain": [
              "<Figure size 1500x500 with 2 Axes>"
            ],
            "image/png": "[encoded data removed]"
          },
          "metadata": {}
        }
      ]
    },
    {
      "cell_type": "code",
      "source": [
        "predicted_classes = model.predict(x_test)\n",
        "predicted_classes = np.argmax(np.round(predicted_classes), axis = 1)\n",
        "predicted_classes.shape, y_test.shape"
      ],
      "metadata": {
        "colab": {
          "base_uri": "https://localhost:8080/"
        },
        "id": "sMXDA4MiAzch",
        "outputId": "ae15bd2a-29e8-4d14-f52b-55a3573b90fa"
      },
      "execution_count": null,
      "outputs": [
        {
          "output_type": "stream",
          "name": "stdout",
          "text": [
            "313/313 [==============================] - 1s 3ms/step\n"
          ]
        },
        {
          "output_type": "execute_result",
          "data": {
            "text/plain": [
              "((10000,), (10000, 10))"
            ]
          },
          "metadata": {},
          "execution_count": 46
        }
      ]
    },
    {
      "cell_type": "code",
      "source": [
        "from sklearn.metrics import classification_report\n",
        "\n",
        "target_names=['Class {}'.format(1) for i in range(10)]\n",
        "print(classification_report(y_test, predicted_classes, target_names=target_names))"
      ],
      "metadata": {
        "colab": {
          "base_uri": "https://localhost:8080/",
          "height": 341
        },
        "id": "oFoTolaTAcoF",
        "outputId": "ae002603-3012-46ef-f395-97841d4615a2"
      },
      "execution_count": null,
      "outputs": [
        {
          "output_type": "error",
          "ename": "ValueError",
          "evalue": "ignored",
          "traceback": [
            "\u001b[0;31m---------------------------------------------------------------------------\u001b[0m",
            "\u001b[0;31mValueError\u001b[0m                                Traceback (most recent call last)",
            "\u001b[0;32m<ipython-input-47-0b35c2a7d9ff>\u001b[0m in \u001b[0;36m<cell line: 4>\u001b[0;34m()\u001b[0m\n\u001b[1;32m      2\u001b[0m \u001b[0;34m\u001b[0m\u001b[0m\n\u001b[1;32m      3\u001b[0m \u001b[0mtarget_names\u001b[0m\u001b[0;34m=\u001b[0m\u001b[0;34m[\u001b[0m\u001b[0;34m'Class {}'\u001b[0m\u001b[0;34m.\u001b[0m\u001b[0mformat\u001b[0m\u001b[0;34m(\u001b[0m\u001b[0;36m1\u001b[0m\u001b[0;34m)\u001b[0m \u001b[0;32mfor\u001b[0m \u001b[0mi\u001b[0m \u001b[0;32min\u001b[0m \u001b[0mrange\u001b[0m\u001b[0;34m(\u001b[0m\u001b[0;36m10\u001b[0m\u001b[0;34m)\u001b[0m\u001b[0;34m]\u001b[0m\u001b[0;34m\u001b[0m\u001b[0;34m\u001b[0m\u001b[0m\n\u001b[0;32m----> 4\u001b[0;31m \u001b[0mprint\u001b[0m\u001b[0;34m(\u001b[0m\u001b[0mclassification_report\u001b[0m\u001b[0;34m(\u001b[0m\u001b[0my_test\u001b[0m\u001b[0;34m,\u001b[0m \u001b[0mpredicted_classes\u001b[0m\u001b[0;34m,\u001b[0m \u001b[0mtarget_names\u001b[0m\u001b[0;34m=\u001b[0m\u001b[0mtarget_names\u001b[0m\u001b[0;34m)\u001b[0m\u001b[0;34m)\u001b[0m\u001b[0;34m\u001b[0m\u001b[0;34m\u001b[0m\u001b[0m\n\u001b[0m",
            "\u001b[0;32m/usr/local/lib/python3.10/dist-packages/sklearn/metrics/_classification.py\u001b[0m in \u001b[0;36mclassification_report\u001b[0;34m(y_true, y_pred, labels, target_names, sample_weight, digits, output_dict, zero_division)\u001b[0m\n\u001b[1;32m   2308\u001b[0m     \"\"\"\n\u001b[1;32m   2309\u001b[0m \u001b[0;34m\u001b[0m\u001b[0m\n\u001b[0;32m-> 2310\u001b[0;31m     \u001b[0my_type\u001b[0m\u001b[0;34m,\u001b[0m \u001b[0my_true\u001b[0m\u001b[0;34m,\u001b[0m \u001b[0my_pred\u001b[0m \u001b[0;34m=\u001b[0m \u001b[0m_check_targets\u001b[0m\u001b[0;34m(\u001b[0m\u001b[0my_true\u001b[0m\u001b[0;34m,\u001b[0m \u001b[0my_pred\u001b[0m\u001b[0;34m)\u001b[0m\u001b[0;34m\u001b[0m\u001b[0;34m\u001b[0m\u001b[0m\n\u001b[0m\u001b[1;32m   2311\u001b[0m \u001b[0;34m\u001b[0m\u001b[0m\n\u001b[1;32m   2312\u001b[0m     \u001b[0;32mif\u001b[0m \u001b[0mlabels\u001b[0m \u001b[0;32mis\u001b[0m \u001b[0;32mNone\u001b[0m\u001b[0;34m:\u001b[0m\u001b[0;34m\u001b[0m\u001b[0;34m\u001b[0m\u001b[0m\n",
            "\u001b[0;32m/usr/local/lib/python3.10/dist-packages/sklearn/metrics/_classification.py\u001b[0m in \u001b[0;36m_check_targets\u001b[0;34m(y_true, y_pred)\u001b[0m\n\u001b[1;32m     93\u001b[0m \u001b[0;34m\u001b[0m\u001b[0m\n\u001b[1;32m     94\u001b[0m     \u001b[0;32mif\u001b[0m \u001b[0mlen\u001b[0m\u001b[0;34m(\u001b[0m\u001b[0my_type\u001b[0m\u001b[0;34m)\u001b[0m \u001b[0;34m>\u001b[0m \u001b[0;36m1\u001b[0m\u001b[0;34m:\u001b[0m\u001b[0;34m\u001b[0m\u001b[0;34m\u001b[0m\u001b[0m\n\u001b[0;32m---> 95\u001b[0;31m         raise ValueError(\n\u001b[0m\u001b[1;32m     96\u001b[0m             \"Classification metrics can't handle a mix of {0} and {1} targets\".format(\n\u001b[1;32m     97\u001b[0m                 \u001b[0mtype_true\u001b[0m\u001b[0;34m,\u001b[0m \u001b[0mtype_pred\u001b[0m\u001b[0;34m\u001b[0m\u001b[0;34m\u001b[0m\u001b[0m\n",
            "\u001b[0;31mValueError\u001b[0m: Classification metrics can't handle a mix of multilabel-indicator and multiclass targets"
          ]
        }
      ]
    }
  ]
}