{
  "cells": [
    {
      "cell_type": "code",
      "execution_count": 1,
      "metadata": {
        "id": "b0v-SrOQI3Ir"
      },
      "outputs": [],
      "source": [
        "from keras.applications.vgg19 import VGG19\n",
        "\n",
        "from keras import layers, models\n",
        "from tensorflow.keras import datasets\n",
        "\n",
        "import tensorflow as tf\n",
        "from tensorflow.keras.utils import to_categorical\n",
        "from keras.models import Sequential\n",
        "from keras.layers import Dense, Dropout, Flatten, Conv2D, MaxPool2D\n",
        "from keras.optimizers import Adam\n",
        "from keras.preprocessing.image import ImageDataGenerator\n",
        "from sklearn.model_selection import train_test_split\n",
        "\n",
        "import keras\n",
        "\n",
        "import matplotlib.pyplot as plt"
      ]
    },
    {
      "cell_type": "code",
      "execution_count": 2,
      "metadata": {
        "colab": {
          "base_uri": "https://localhost:8080/"
        },
        "id": "bSDz-04TI9DW",
        "outputId": "98fc9369-87ee-4505-8e85-231b0f7451d1"
      },
      "outputs": [
        {
          "output_type": "stream",
          "name": "stdout",
          "text": [
            "Downloading data from https://www.cs.toronto.edu/~kriz/cifar-10-python.tar.gz\n",
            "170498071/170498071 [==============================] - 13s 0us/step\n"
          ]
        }
      ],
      "source": [
        "(x_train, y_train), (x_test, y_test) = datasets.cifar10.load_data()\n",
        "\n",
        "x_train, y_test = x_train / 255.0, y_test / 255.0"
      ]
    },
    {
      "cell_type": "code",
      "execution_count": 3,
      "metadata": {
        "colab": {
          "base_uri": "https://localhost:8080/"
        },
        "id": "XQwx07cqJBgt",
        "outputId": "b73681b2-74ef-4b61-dc0a-353aaffcba78"
      },
      "outputs": [
        {
          "output_type": "execute_result",
          "data": {
            "text/plain": [
              "((35000, 32, 32, 3), (15000, 32, 32, 3), (35000, 1), (15000, 1))"
            ]
          },
          "metadata": {},
          "execution_count": 3
        }
      ],
      "source": [
        "x_train, x_val, y_train, y_val = train_test_split(x_train, y_train, test_size = 0.3, random_state = 42)\n",
        "\n",
        "x_train.shape, x_val.shape, y_train.shape, y_val.shape"
      ]
    },
    {
      "cell_type": "code",
      "execution_count": 4,
      "metadata": {
        "colab": {
          "base_uri": "https://localhost:8080/"
        },
        "id": "ZxUPrw1YJPLp",
        "outputId": "50119947-ea0e-4e67-f37f-d3b249535b0d"
      },
      "outputs": [
        {
          "output_type": "execute_result",
          "data": {
            "text/plain": [
              "((35000, 10), (15000, 10), (10000, 10))"
            ]
          },
          "metadata": {},
          "execution_count": 4
        }
      ],
      "source": [
        "# Transforming labels to correct format, through one-hot coding\n",
        "\n",
        "y_train = to_categorical(y_train, num_classes=10)\n",
        "y_val = to_categorical(y_val, num_classes=10)\n",
        "\n",
        "y_test = to_categorical(y_test, num_classes=10)\n",
        "\n",
        "y_train.shape, y_val.shape, y_test.shape"
      ]
    },
    {
      "cell_type": "code",
      "execution_count": 5,
      "metadata": {
        "colab": {
          "base_uri": "https://localhost:8080/"
        },
        "id": "RQmGLNQMKRkK",
        "outputId": "532f6822-aff3-4380-9133-87661dd6d90c"
      },
      "outputs": [
        {
          "output_type": "stream",
          "name": "stdout",
          "text": [
            "Downloading data from https://storage.googleapis.com/tensorflow/keras-applications/vgg19/vgg19_weights_tf_dim_ordering_tf_kernels_notop.h5\n",
            "80134624/80134624 [==============================] - 5s 0us/step\n",
            "Model: \"vgg19\"\n",
            "_________________________________________________________________\n",
            " Layer (type)                Output Shape              Param #   \n",
            "=================================================================\n",
            " input_1 (InputLayer)        [(None, 32, 32, 3)]       0         \n",
            "                                                                 \n",
            " block1_conv1 (Conv2D)       (None, 32, 32, 64)        1792      \n",
            "                                                                 \n",
            " block1_conv2 (Conv2D)       (None, 32, 32, 64)        36928     \n",
            "                                                                 \n",
            " block1_pool (MaxPooling2D)  (None, 16, 16, 64)        0         \n",
            "                                                                 \n",
            " block2_conv1 (Conv2D)       (None, 16, 16, 128)       73856     \n",
            "                                                                 \n",
            " block2_conv2 (Conv2D)       (None, 16, 16, 128)       147584    \n",
            "                                                                 \n",
            " block2_pool (MaxPooling2D)  (None, 8, 8, 128)         0         \n",
            "                                                                 \n",
            " block3_conv1 (Conv2D)       (None, 8, 8, 256)         295168    \n",
            "                                                                 \n",
            " block3_conv2 (Conv2D)       (None, 8, 8, 256)         590080    \n",
            "                                                                 \n",
            " block3_conv3 (Conv2D)       (None, 8, 8, 256)         590080    \n",
            "                                                                 \n",
            " block3_conv4 (Conv2D)       (None, 8, 8, 256)         590080    \n",
            "                                                                 \n",
            " block3_pool (MaxPooling2D)  (None, 4, 4, 256)         0         \n",
            "                                                                 \n",
            " block4_conv1 (Conv2D)       (None, 4, 4, 512)         1180160   \n",
            "                                                                 \n",
            " block4_conv2 (Conv2D)       (None, 4, 4, 512)         2359808   \n",
            "                                                                 \n",
            " block4_conv3 (Conv2D)       (None, 4, 4, 512)         2359808   \n",
            "                                                                 \n",
            " block4_conv4 (Conv2D)       (None, 4, 4, 512)         2359808   \n",
            "                                                                 \n",
            " block4_pool (MaxPooling2D)  (None, 2, 2, 512)         0         \n",
            "                                                                 \n",
            " block5_conv1 (Conv2D)       (None, 2, 2, 512)         2359808   \n",
            "                                                                 \n",
            " block5_conv2 (Conv2D)       (None, 2, 2, 512)         2359808   \n",
            "                                                                 \n",
            " block5_conv3 (Conv2D)       (None, 2, 2, 512)         2359808   \n",
            "                                                                 \n",
            " block5_conv4 (Conv2D)       (None, 2, 2, 512)         2359808   \n",
            "                                                                 \n",
            " block5_pool (MaxPooling2D)  (None, 1, 1, 512)         0         \n",
            "                                                                 \n",
            "=================================================================\n",
            "Total params: 20,024,384\n",
            "Trainable params: 20,024,384\n",
            "Non-trainable params: 0\n",
            "_________________________________________________________________\n"
          ]
        }
      ],
      "source": [
        "vgg = VGG19(include_top=False,weights=\"imagenet\",input_shape=(32,32,3))\n",
        "# vgg = VGG19(\n",
        "#     include_top=False,\n",
        "#     weights='imagenet',\n",
        "#     input_tensor=upscale,\n",
        "#     input_shape=(244,244,3),\n",
        "#     pooling='max',\n",
        "#     classifier_activation='softmax'\n",
        "# )\n",
        "\n",
        "vgg.summary()"
      ]
    },
    {
      "cell_type": "code",
      "execution_count": 8,
      "metadata": {
        "colab": {
          "base_uri": "https://localhost:8080/"
        },
        "id": "AeCxRIuXZYQk",
        "outputId": "86a1aaa7-d7f5-48ce-db51-c9709871e541"
      },
      "outputs": [
        {
          "output_type": "stream",
          "name": "stdout",
          "text": [
            "Model: \"sequential_1\"\n",
            "_________________________________________________________________\n",
            " Layer (type)                Output Shape              Param #   \n",
            "=================================================================\n",
            " block1_conv1 (Conv2D)       (None, 32, 32, 64)        1792      \n",
            "                                                                 \n",
            " block1_conv2 (Conv2D)       (None, 32, 32, 64)        36928     \n",
            "                                                                 \n",
            " block1_pool (MaxPooling2D)  (None, 16, 16, 64)        0         \n",
            "                                                                 \n",
            " block2_conv1 (Conv2D)       (None, 16, 16, 128)       73856     \n",
            "                                                                 \n",
            " block2_conv2 (Conv2D)       (None, 16, 16, 128)       147584    \n",
            "                                                                 \n",
            " block2_pool (MaxPooling2D)  (None, 8, 8, 128)         0         \n",
            "                                                                 \n",
            " block3_conv1 (Conv2D)       (None, 8, 8, 256)         295168    \n",
            "                                                                 \n",
            " block3_conv2 (Conv2D)       (None, 8, 8, 256)         590080    \n",
            "                                                                 \n",
            " block3_conv3 (Conv2D)       (None, 8, 8, 256)         590080    \n",
            "                                                                 \n",
            " block3_conv4 (Conv2D)       (None, 8, 8, 256)         590080    \n",
            "                                                                 \n",
            " block3_pool (MaxPooling2D)  (None, 4, 4, 256)         0         \n",
            "                                                                 \n",
            " block4_conv1 (Conv2D)       (None, 4, 4, 512)         1180160   \n",
            "                                                                 \n",
            " block4_conv2 (Conv2D)       (None, 4, 4, 512)         2359808   \n",
            "                                                                 \n",
            " block4_conv3 (Conv2D)       (None, 4, 4, 512)         2359808   \n",
            "                                                                 \n",
            " block4_conv4 (Conv2D)       (None, 4, 4, 512)         2359808   \n",
            "                                                                 \n",
            " block4_pool (MaxPooling2D)  (None, 2, 2, 512)         0         \n",
            "                                                                 \n",
            " block5_conv1 (Conv2D)       (None, 2, 2, 512)         2359808   \n",
            "                                                                 \n",
            " block5_conv2 (Conv2D)       (None, 2, 2, 512)         2359808   \n",
            "                                                                 \n",
            " block5_conv3 (Conv2D)       (None, 2, 2, 512)         2359808   \n",
            "                                                                 \n",
            " block5_conv4 (Conv2D)       (None, 2, 2, 512)         2359808   \n",
            "                                                                 \n",
            " block5_pool (MaxPooling2D)  (None, 1, 1, 512)         0         \n",
            "                                                                 \n",
            " flatten_1 (Flatten)         (None, 512)               0         \n",
            "                                                                 \n",
            " dense_2 (Dense)             (None, 256)               131328    \n",
            "                                                                 \n",
            " dropout_1 (Dropout)         (None, 256)               0         \n",
            "                                                                 \n",
            " dense_3 (Dense)             (None, 128)               32896     \n",
            "                                                                 \n",
            " dense_4 (Dense)             (None, 64)                8256      \n",
            "                                                                 \n",
            " dense_5 (Dense)             (None, 10)                650       \n",
            "                                                                 \n",
            "=================================================================\n",
            "Total params: 20,197,514\n",
            "Trainable params: 173,130\n",
            "Non-trainable params: 20,024,384\n",
            "_________________________________________________________________\n"
          ]
        }
      ],
      "source": [
        "# image_size = (224, 224)\n",
        "from tensorflow.keras.regularizers import l2\n",
        "\n",
        "model = Sequential()\n",
        "\n",
        "\n",
        "# model.add(tf.keras.layers.Resizing(image_size[0], image_size[1], interpolation=\"bilinear\", input_shape=x_train.shape[1:]))\n",
        "\n",
        "for layer in vgg.layers:\n",
        "    model.add(layer)\n",
        "\n",
        "for layer in model.layers:\n",
        "    layer.trainable = False\n",
        "\n",
        "model.add(Flatten())\n",
        "model.add(Dense(256))\n",
        "model.add(Dropout(.3))\n",
        "model.add(Dense(128))\n",
        "# model.add(Dense(64))\n",
        "model.add(Dense(64, activation='relu', kernel_regularizer=l2(0.01)))\n",
        "model.add(Dense(10,activation=\"softmax\"))\n",
        "\n",
        "model.summary()"
      ]
    },
    {
      "cell_type": "code",
      "execution_count": 9,
      "metadata": {
        "id": "PQByzICFZe26"
      },
      "outputs": [],
      "source": [
        "model.compile(optimizer=\"adam\",loss=\"categorical_crossentropy\",metrics=[\"accuracy\"])\n"
      ]
    },
    {
      "cell_type": "code",
      "execution_count": 10,
      "metadata": {
        "colab": {
          "base_uri": "https://localhost:8080/"
        },
        "id": "3glPGQ0hZg8U",
        "outputId": "1fa38209-7310-4a80-f705-0c67fe919db2"
      },
      "outputs": [
        {
          "output_type": "stream",
          "name": "stdout",
          "text": [
            "Epoch 1/100\n",
            "96/96 [==============================] - 18s 76ms/step - loss: 2.3039 - accuracy: 0.3963 - val_loss: 1.8480 - val_accuracy: 0.5021\n",
            "Epoch 2/100\n",
            "96/96 [==============================] - 6s 61ms/step - loss: 1.7154 - accuracy: 0.5100 - val_loss: 1.5843 - val_accuracy: 0.5269\n",
            "Epoch 3/100\n",
            "96/96 [==============================] - 6s 60ms/step - loss: 1.5157 - accuracy: 0.5349 - val_loss: 1.4632 - val_accuracy: 0.5398\n",
            "Epoch 4/100\n",
            "96/96 [==============================] - 5s 48ms/step - loss: 1.4061 - accuracy: 0.5510 - val_loss: 1.3880 - val_accuracy: 0.5499\n",
            "Epoch 5/100\n",
            "96/96 [==============================] - 6s 60ms/step - loss: 1.3451 - accuracy: 0.5595 - val_loss: 1.3440 - val_accuracy: 0.5528\n",
            "Epoch 6/100\n",
            "96/96 [==============================] - 6s 61ms/step - loss: 1.3076 - accuracy: 0.5633 - val_loss: 1.3301 - val_accuracy: 0.5500\n",
            "Epoch 7/100\n",
            "96/96 [==============================] - 5s 49ms/step - loss: 1.2763 - accuracy: 0.5704 - val_loss: 1.2919 - val_accuracy: 0.5633\n",
            "Epoch 8/100\n",
            "96/96 [==============================] - 6s 61ms/step - loss: 1.2588 - accuracy: 0.5751 - val_loss: 1.2974 - val_accuracy: 0.5599\n",
            "Epoch 9/100\n",
            "96/96 [==============================] - 5s 47ms/step - loss: 1.2389 - accuracy: 0.5800 - val_loss: 1.2841 - val_accuracy: 0.5669\n",
            "Epoch 10/100\n",
            "96/96 [==============================] - 5s 48ms/step - loss: 1.2302 - accuracy: 0.5833 - val_loss: 1.2593 - val_accuracy: 0.5695\n",
            "Epoch 11/100\n",
            "96/96 [==============================] - 5s 48ms/step - loss: 1.2135 - accuracy: 0.5874 - val_loss: 1.2616 - val_accuracy: 0.5692\n",
            "Epoch 12/100\n",
            "96/96 [==============================] - 5s 48ms/step - loss: 1.2015 - accuracy: 0.5900 - val_loss: 1.2731 - val_accuracy: 0.5682\n",
            "Epoch 13/100\n",
            "96/96 [==============================] - 6s 60ms/step - loss: 1.1989 - accuracy: 0.5923 - val_loss: 1.2823 - val_accuracy: 0.5630\n",
            "Epoch 14/100\n",
            "96/96 [==============================] - 6s 60ms/step - loss: 1.1933 - accuracy: 0.5907 - val_loss: 1.2512 - val_accuracy: 0.5697\n",
            "Epoch 15/100\n",
            "96/96 [==============================] - 6s 60ms/step - loss: 1.1857 - accuracy: 0.5938 - val_loss: 1.2686 - val_accuracy: 0.5680\n",
            "Epoch 16/100\n",
            "96/96 [==============================] - 4s 47ms/step - loss: 1.1781 - accuracy: 0.5979 - val_loss: 1.2569 - val_accuracy: 0.5663\n",
            "Epoch 17/100\n",
            "96/96 [==============================] - 4s 47ms/step - loss: 1.1747 - accuracy: 0.5979 - val_loss: 1.2630 - val_accuracy: 0.5641\n",
            "Epoch 18/100\n",
            "96/96 [==============================] - 5s 48ms/step - loss: 1.1731 - accuracy: 0.5976 - val_loss: 1.2481 - val_accuracy: 0.5661\n",
            "Epoch 19/100\n",
            "96/96 [==============================] - 6s 60ms/step - loss: 1.1657 - accuracy: 0.6023 - val_loss: 1.2576 - val_accuracy: 0.5674\n",
            "Epoch 20/100\n",
            "96/96 [==============================] - 6s 61ms/step - loss: 1.1591 - accuracy: 0.6017 - val_loss: 1.2514 - val_accuracy: 0.5695\n",
            "Epoch 21/100\n",
            "96/96 [==============================] - 5s 47ms/step - loss: 1.1557 - accuracy: 0.5998 - val_loss: 1.2456 - val_accuracy: 0.5704\n",
            "Epoch 22/100\n",
            "96/96 [==============================] - 5s 47ms/step - loss: 1.1535 - accuracy: 0.6041 - val_loss: 1.2501 - val_accuracy: 0.5705\n",
            "Epoch 23/100\n",
            "96/96 [==============================] - 6s 61ms/step - loss: 1.1514 - accuracy: 0.6038 - val_loss: 1.2557 - val_accuracy: 0.5691\n",
            "Epoch 24/100\n",
            "96/96 [==============================] - 5s 47ms/step - loss: 1.1491 - accuracy: 0.6077 - val_loss: 1.2649 - val_accuracy: 0.5698\n",
            "Epoch 25/100\n",
            "96/96 [==============================] - 5s 48ms/step - loss: 1.1409 - accuracy: 0.6104 - val_loss: 1.2550 - val_accuracy: 0.5714\n",
            "Epoch 26/100\n",
            "96/96 [==============================] - 5s 47ms/step - loss: 1.1391 - accuracy: 0.6072 - val_loss: 1.2496 - val_accuracy: 0.5716\n",
            "Epoch 27/100\n",
            "96/96 [==============================] - 6s 60ms/step - loss: 1.1355 - accuracy: 0.6106 - val_loss: 1.2554 - val_accuracy: 0.5692\n",
            "Epoch 28/100\n",
            "96/96 [==============================] - 5s 48ms/step - loss: 1.1349 - accuracy: 0.6099 - val_loss: 1.2543 - val_accuracy: 0.5690\n",
            "Epoch 29/100\n",
            "96/96 [==============================] - 6s 60ms/step - loss: 1.1299 - accuracy: 0.6118 - val_loss: 1.2395 - val_accuracy: 0.5750\n",
            "Epoch 30/100\n",
            "96/96 [==============================] - 5s 48ms/step - loss: 1.1315 - accuracy: 0.6112 - val_loss: 1.2428 - val_accuracy: 0.5737\n",
            "Epoch 31/100\n",
            "96/96 [==============================] - 4s 47ms/step - loss: 1.1235 - accuracy: 0.6140 - val_loss: 1.2542 - val_accuracy: 0.5696\n",
            "Epoch 32/100\n",
            "96/96 [==============================] - 5s 47ms/step - loss: 1.1202 - accuracy: 0.6147 - val_loss: 1.2430 - val_accuracy: 0.5761\n",
            "Epoch 33/100\n",
            "96/96 [==============================] - 5s 48ms/step - loss: 1.1155 - accuracy: 0.6147 - val_loss: 1.2482 - val_accuracy: 0.5726\n",
            "Epoch 34/100\n",
            "96/96 [==============================] - 4s 47ms/step - loss: 1.1112 - accuracy: 0.6177 - val_loss: 1.2512 - val_accuracy: 0.5752\n",
            "Epoch 35/100\n",
            "96/96 [==============================] - 5s 48ms/step - loss: 1.1058 - accuracy: 0.6203 - val_loss: 1.2399 - val_accuracy: 0.5750\n",
            "Epoch 36/100\n",
            "96/96 [==============================] - 5s 48ms/step - loss: 1.1098 - accuracy: 0.6176 - val_loss: 1.2617 - val_accuracy: 0.5713\n",
            "Epoch 37/100\n",
            "96/96 [==============================] - 5s 47ms/step - loss: 1.1043 - accuracy: 0.6223 - val_loss: 1.2529 - val_accuracy: 0.5720\n",
            "Epoch 38/100\n",
            "96/96 [==============================] - 5s 48ms/step - loss: 1.1031 - accuracy: 0.6183 - val_loss: 1.2406 - val_accuracy: 0.5749\n",
            "Epoch 39/100\n",
            "96/96 [==============================] - 5s 47ms/step - loss: 1.1002 - accuracy: 0.6225 - val_loss: 1.2591 - val_accuracy: 0.5749\n",
            "Epoch 40/100\n",
            "96/96 [==============================] - 6s 60ms/step - loss: 1.0983 - accuracy: 0.6226 - val_loss: 1.2424 - val_accuracy: 0.5748\n",
            "Epoch 41/100\n",
            "96/96 [==============================] - 5s 47ms/step - loss: 1.0907 - accuracy: 0.6243 - val_loss: 1.2566 - val_accuracy: 0.5765\n",
            "Epoch 42/100\n",
            "96/96 [==============================] - 4s 47ms/step - loss: 1.0876 - accuracy: 0.6285 - val_loss: 1.2552 - val_accuracy: 0.5710\n",
            "Epoch 43/100\n",
            "96/96 [==============================] - 5s 48ms/step - loss: 1.0875 - accuracy: 0.6267 - val_loss: 1.2560 - val_accuracy: 0.5735\n",
            "Epoch 44/100\n",
            "96/96 [==============================] - 5s 47ms/step - loss: 1.0870 - accuracy: 0.6254 - val_loss: 1.2583 - val_accuracy: 0.5702\n",
            "Epoch 45/100\n",
            "96/96 [==============================] - 6s 60ms/step - loss: 1.0884 - accuracy: 0.6249 - val_loss: 1.2570 - val_accuracy: 0.5739\n",
            "Epoch 46/100\n",
            "96/96 [==============================] - 6s 60ms/step - loss: 1.0803 - accuracy: 0.6297 - val_loss: 1.2436 - val_accuracy: 0.5771\n",
            "Epoch 47/100\n",
            "96/96 [==============================] - 6s 60ms/step - loss: 1.0760 - accuracy: 0.6312 - val_loss: 1.2675 - val_accuracy: 0.5718\n",
            "Epoch 48/100\n",
            "96/96 [==============================] - 6s 60ms/step - loss: 1.0761 - accuracy: 0.6291 - val_loss: 1.2480 - val_accuracy: 0.5736\n",
            "Epoch 49/100\n",
            "96/96 [==============================] - 6s 60ms/step - loss: 1.0731 - accuracy: 0.6320 - val_loss: 1.2516 - val_accuracy: 0.5778\n",
            "Epoch 50/100\n",
            "96/96 [==============================] - 6s 60ms/step - loss: 1.0671 - accuracy: 0.6329 - val_loss: 1.2619 - val_accuracy: 0.5708\n",
            "Epoch 51/100\n",
            "96/96 [==============================] - 6s 60ms/step - loss: 1.0679 - accuracy: 0.6321 - val_loss: 1.2588 - val_accuracy: 0.5730\n",
            "Epoch 52/100\n",
            "96/96 [==============================] - 6s 61ms/step - loss: 1.0660 - accuracy: 0.6328 - val_loss: 1.2583 - val_accuracy: 0.5728\n",
            "Epoch 53/100\n",
            "96/96 [==============================] - 6s 60ms/step - loss: 1.0632 - accuracy: 0.6343 - val_loss: 1.2702 - val_accuracy: 0.5741\n",
            "Epoch 54/100\n",
            "96/96 [==============================] - 5s 48ms/step - loss: 1.0585 - accuracy: 0.6348 - val_loss: 1.2660 - val_accuracy: 0.5748\n",
            "Epoch 55/100\n",
            "96/96 [==============================] - 5s 47ms/step - loss: 1.0603 - accuracy: 0.6313 - val_loss: 1.2563 - val_accuracy: 0.5757\n",
            "Epoch 56/100\n",
            "96/96 [==============================] - 6s 62ms/step - loss: 1.0509 - accuracy: 0.6415 - val_loss: 1.2709 - val_accuracy: 0.5768\n",
            "Epoch 57/100\n",
            "96/96 [==============================] - 6s 61ms/step - loss: 1.0515 - accuracy: 0.6389 - val_loss: 1.2659 - val_accuracy: 0.5726\n",
            "Epoch 58/100\n",
            "96/96 [==============================] - 6s 62ms/step - loss: 1.0517 - accuracy: 0.6377 - val_loss: 1.2586 - val_accuracy: 0.5744\n",
            "Epoch 59/100\n",
            "96/96 [==============================] - 5s 47ms/step - loss: 1.0479 - accuracy: 0.6407 - val_loss: 1.2552 - val_accuracy: 0.5759\n",
            "Epoch 60/100\n",
            "96/96 [==============================] - 6s 60ms/step - loss: 1.0443 - accuracy: 0.6407 - val_loss: 1.2673 - val_accuracy: 0.5736\n",
            "Epoch 61/100\n",
            "96/96 [==============================] - 6s 61ms/step - loss: 1.0439 - accuracy: 0.6407 - val_loss: 1.2758 - val_accuracy: 0.5749\n",
            "Epoch 62/100\n",
            "96/96 [==============================] - 6s 61ms/step - loss: 1.0448 - accuracy: 0.6416 - val_loss: 1.2666 - val_accuracy: 0.5750\n",
            "Epoch 63/100\n",
            "96/96 [==============================] - 6s 61ms/step - loss: 1.0408 - accuracy: 0.6424 - val_loss: 1.2599 - val_accuracy: 0.5776\n",
            "Epoch 64/100\n",
            "96/96 [==============================] - 6s 61ms/step - loss: 1.0338 - accuracy: 0.6440 - val_loss: 1.2733 - val_accuracy: 0.5715\n",
            "Epoch 65/100\n",
            "96/96 [==============================] - 6s 61ms/step - loss: 1.0332 - accuracy: 0.6436 - val_loss: 1.2679 - val_accuracy: 0.5717\n",
            "Epoch 66/100\n",
            "96/96 [==============================] - 6s 61ms/step - loss: 1.0357 - accuracy: 0.6429 - val_loss: 1.2869 - val_accuracy: 0.5679\n",
            "Epoch 67/100\n",
            "96/96 [==============================] - 5s 48ms/step - loss: 1.0296 - accuracy: 0.6458 - val_loss: 1.2691 - val_accuracy: 0.5753\n",
            "Epoch 68/100\n",
            "96/96 [==============================] - 5s 48ms/step - loss: 1.0265 - accuracy: 0.6482 - val_loss: 1.2675 - val_accuracy: 0.5768\n",
            "Epoch 69/100\n",
            "96/96 [==============================] - 6s 62ms/step - loss: 1.0237 - accuracy: 0.6494 - val_loss: 1.2651 - val_accuracy: 0.5810\n",
            "Epoch 70/100\n",
            "96/96 [==============================] - 5s 48ms/step - loss: 1.0213 - accuracy: 0.6487 - val_loss: 1.2884 - val_accuracy: 0.5708\n",
            "Epoch 71/100\n",
            "96/96 [==============================] - 6s 62ms/step - loss: 1.0173 - accuracy: 0.6499 - val_loss: 1.2902 - val_accuracy: 0.5750\n",
            "Epoch 72/100\n",
            "96/96 [==============================] - 5s 48ms/step - loss: 1.0181 - accuracy: 0.6527 - val_loss: 1.2606 - val_accuracy: 0.5787\n",
            "Epoch 73/100\n",
            "96/96 [==============================] - 5s 48ms/step - loss: 1.0168 - accuracy: 0.6480 - val_loss: 1.2934 - val_accuracy: 0.5699\n",
            "Epoch 74/100\n",
            "96/96 [==============================] - 6s 62ms/step - loss: 1.0184 - accuracy: 0.6516 - val_loss: 1.2776 - val_accuracy: 0.5775\n",
            "Epoch 75/100\n",
            "96/96 [==============================] - 6s 61ms/step - loss: 1.0111 - accuracy: 0.6549 - val_loss: 1.2851 - val_accuracy: 0.5735\n",
            "Epoch 76/100\n",
            "96/96 [==============================] - 5s 48ms/step - loss: 1.0068 - accuracy: 0.6548 - val_loss: 1.2806 - val_accuracy: 0.5786\n",
            "Epoch 77/100\n",
            "96/96 [==============================] - 4s 47ms/step - loss: 1.0097 - accuracy: 0.6512 - val_loss: 1.2941 - val_accuracy: 0.5695\n",
            "Epoch 78/100\n",
            "96/96 [==============================] - 6s 61ms/step - loss: 1.0072 - accuracy: 0.6536 - val_loss: 1.3038 - val_accuracy: 0.5725\n",
            "Epoch 79/100\n",
            "96/96 [==============================] - 4s 47ms/step - loss: 1.0101 - accuracy: 0.6507 - val_loss: 1.2944 - val_accuracy: 0.5789\n",
            "Epoch 80/100\n",
            "96/96 [==============================] - 6s 60ms/step - loss: 1.0059 - accuracy: 0.6538 - val_loss: 1.2806 - val_accuracy: 0.5743\n",
            "Epoch 81/100\n",
            "96/96 [==============================] - 5s 48ms/step - loss: 1.0035 - accuracy: 0.6582 - val_loss: 1.3092 - val_accuracy: 0.5725\n",
            "Epoch 82/100\n",
            "96/96 [==============================] - 5s 47ms/step - loss: 1.0014 - accuracy: 0.6560 - val_loss: 1.2977 - val_accuracy: 0.5678\n",
            "Epoch 83/100\n",
            "96/96 [==============================] - 5s 48ms/step - loss: 0.9983 - accuracy: 0.6567 - val_loss: 1.2822 - val_accuracy: 0.5758\n",
            "Epoch 84/100\n",
            "96/96 [==============================] - 6s 60ms/step - loss: 0.9922 - accuracy: 0.6605 - val_loss: 1.2895 - val_accuracy: 0.5699\n",
            "Epoch 85/100\n",
            "96/96 [==============================] - 5s 47ms/step - loss: 0.9975 - accuracy: 0.6599 - val_loss: 1.2956 - val_accuracy: 0.5737\n",
            "Epoch 86/100\n",
            "96/96 [==============================] - 6s 61ms/step - loss: 0.9954 - accuracy: 0.6609 - val_loss: 1.2816 - val_accuracy: 0.5761\n",
            "Epoch 87/100\n",
            "96/96 [==============================] - 6s 60ms/step - loss: 0.9907 - accuracy: 0.6593 - val_loss: 1.2961 - val_accuracy: 0.5717\n",
            "Epoch 88/100\n",
            "96/96 [==============================] - 6s 61ms/step - loss: 0.9887 - accuracy: 0.6626 - val_loss: 1.3010 - val_accuracy: 0.5707\n",
            "Epoch 89/100\n",
            "96/96 [==============================] - 6s 60ms/step - loss: 0.9814 - accuracy: 0.6632 - val_loss: 1.2917 - val_accuracy: 0.5759\n",
            "Epoch 90/100\n",
            "96/96 [==============================] - 5s 48ms/step - loss: 0.9783 - accuracy: 0.6640 - val_loss: 1.2957 - val_accuracy: 0.5765\n",
            "Epoch 91/100\n",
            "96/96 [==============================] - 5s 48ms/step - loss: 0.9858 - accuracy: 0.6622 - val_loss: 1.3065 - val_accuracy: 0.5717\n",
            "Epoch 92/100\n",
            "96/96 [==============================] - 6s 61ms/step - loss: 0.9833 - accuracy: 0.6619 - val_loss: 1.2972 - val_accuracy: 0.5773\n",
            "Epoch 93/100\n",
            "96/96 [==============================] - 5s 47ms/step - loss: 0.9774 - accuracy: 0.6666 - val_loss: 1.3072 - val_accuracy: 0.5679\n",
            "Epoch 94/100\n",
            "96/96 [==============================] - 6s 61ms/step - loss: 0.9819 - accuracy: 0.6612 - val_loss: 1.3054 - val_accuracy: 0.5698\n",
            "Epoch 95/100\n",
            "96/96 [==============================] - 5s 48ms/step - loss: 0.9771 - accuracy: 0.6640 - val_loss: 1.3037 - val_accuracy: 0.5726\n",
            "Epoch 96/100\n",
            "96/96 [==============================] - 5s 48ms/step - loss: 0.9799 - accuracy: 0.6655 - val_loss: 1.3201 - val_accuracy: 0.5718\n",
            "Epoch 97/100\n",
            "96/96 [==============================] - 6s 62ms/step - loss: 0.9744 - accuracy: 0.6646 - val_loss: 1.3147 - val_accuracy: 0.5714\n",
            "Epoch 98/100\n",
            "96/96 [==============================] - 6s 61ms/step - loss: 0.9712 - accuracy: 0.6693 - val_loss: 1.3268 - val_accuracy: 0.5673\n",
            "Epoch 99/100\n",
            "96/96 [==============================] - 6s 62ms/step - loss: 0.9737 - accuracy: 0.6642 - val_loss: 1.3086 - val_accuracy: 0.5721\n",
            "Epoch 100/100\n",
            "96/96 [==============================] - 5s 48ms/step - loss: 0.9689 - accuracy: 0.6672 - val_loss: 1.3139 - val_accuracy: 0.5749\n"
          ]
        }
      ],
      "source": [
        "hist = model.fit(x_train,y_train,validation_split=0.3,epochs=100,batch_size=256)"
      ]
    },
    {
      "cell_type": "code",
      "execution_count": 25,
      "metadata": {
        "colab": {
          "base_uri": "https://localhost:8080/"
        },
        "id": "fD7_4WAd8PPZ",
        "outputId": "643231c8-be62-4646-9ff7-d387353d8538"
      },
      "outputs": [
        {
          "output_type": "stream",
          "name": "stdout",
          "text": [
            "313/313 - 3s - loss: 180.8228 - accuracy: 0.3140 - 3s/epoch - 10ms/step\n",
            "Evaluate on test data, optimizer: adam, loss: categorical_crossentropy\n",
            "Accuracy for test data: 0.31%\n",
            "Loss for test data : 180.82%\n"
          ]
        }
      ],
      "source": [
        "loss_test, accuracy_test = model.evaluate(x_test, y_test, verbose=2)\n",
        "print(\"Evaluate on test data, optimizer: adam, loss: categorical_crossentropy\")\n",
        "\n",
        "print(\"Accuracy for test data: {:.2f}%\".format(accuracy_test))\n",
        "print(\"Loss for test data : {:.2f}%\".format(loss_test))"
      ]
    },
    {
      "cell_type": "code",
      "execution_count": 26,
      "metadata": {
        "colab": {
          "base_uri": "https://localhost:8080/"
        },
        "id": "dZwJzRYG8PPZ",
        "outputId": "d8789b37-6843-48ed-9ec6-4be960190e1e"
      },
      "outputs": [
        {
          "output_type": "stream",
          "name": "stdout",
          "text": [
            "469/469 - 5s - loss: 1.2566 - accuracy: 0.5617 - 5s/epoch - 11ms/step\n",
            "Evaluate on test data, optimizer: adam, loss: categorical_crossentropy\n",
            "Accuracy for valid. data: 1.26%\n",
            "Loss for valid. data : 0.56%\n"
          ]
        }
      ],
      "source": [
        "loss_val, accuracy_val = model.evaluate(x_val, y_val, verbose=2)\n",
        "print(\"Evaluate on test data, optimizer: adam, loss: categorical_crossentropy\")\n",
        "\n",
        "print(\"Accuracy for valid. data: {:.2f}%\".format(loss_val))\n",
        "print(\"Loss for valid. data : {:.2f}%\".format(accuracy_val))"
      ]
    },
    {
      "cell_type": "code",
      "source": [
        "plt.subplots(figsize=(6,4))\n",
        "plt.plot(hist.epoch,hist.history[\"loss\"],color=\"green\",label=\"Train Loss\")\n",
        "plt.plot(hist.epoch,hist.history[\"val_loss\"],color=\"blue\",label=\"Validation Loss\")\n",
        "plt.xlabel(\"Epoch Number\")\n",
        "plt.ylabel(\"Loss\")\n",
        "plt.legend()\n",
        "plt.title(\"Loss Graph\")\n",
        "plt.show()"
      ],
      "metadata": {
        "colab": {
          "base_uri": "https://localhost:8080/",
          "height": 410
        },
        "id": "vCuBXQFgA0sq",
        "outputId": "15d648e9-3479-474e-eb9c-00411377acd1"
      },
      "execution_count": 27,
      "outputs": [
        {
          "output_type": "display_data",
          "data": {
            "text/plain": [
              "<Figure size 600x400 with 1 Axes>"
            ],
            "image/png": "[encoded data removed]"
          },
          "metadata": {}
        }
      ]
    },
    {
      "cell_type": "code",
      "source": [
        "plt.subplots(figsize=(6,4))\n",
        "plt.plot(hist.epoch,hist.history[\"accuracy\"],color=\"green\",label=\"Train Accuracy\")\n",
        "plt.plot(hist.epoch,hist.history[\"val_accuracy\"],color=\"blue\",label=\"Validation Accuracy\")\n",
        "plt.xlabel(\"Epoch Number\")\n",
        "plt.ylabel(\"Accuracy\")\n",
        "plt.legend()\n",
        "plt.title(\"Accuracy Graph\")\n",
        "plt.show()"
      ],
      "metadata": {
        "colab": {
          "base_uri": "https://localhost:8080/",
          "height": 410
        },
        "id": "SbwkLNRtA7rh",
        "outputId": "372a6015-25b9-495a-b1d0-ca42877f089b"
      },
      "execution_count": 28,
      "outputs": [
        {
          "output_type": "display_data",
          "data": {
            "text/plain": [
              "<Figure size 600x400 with 1 Axes>"
            ],
            "image/png": "[encoded data removed]"
          },
          "metadata": {}
        }
      ]
    }
  ],
  "metadata": {
    "accelerator": "GPU",
    "colab": {
      "gpuType": "T4",
      "machine_shape": "hm",
      "provenance": []
    },
    "kernelspec": {
      "display_name": "Python 3",
      "name": "python3"
    },
    "language_info": {
      "codemirror_mode": {
        "name": "ipython",
        "version": 3
      },
      "file_extension": ".py",
      "mimetype": "text/x-python",
      "name": "python",
      "nbconvert_exporter": "python",
      "pygments_lexer": "ipython3",
      "version": "3.11.1"
    }
  },
  "nbformat": 4,
  "nbformat_minor": 0
}