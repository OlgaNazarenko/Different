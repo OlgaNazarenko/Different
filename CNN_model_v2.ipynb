{
  "nbformat": 4,
  "nbformat_minor": 0,
  "metadata": {
    "colab": {
      "provenance": [],
      "gpuType": "T4"
    },
    "kernelspec": {
      "name": "python3",
      "display_name": "Python 3"
    },
    "language_info": {
      "name": "python"
    },
    "accelerator": "GPU"
  },
  "cells": [
    {
      "cell_type": "code",
      "execution_count": 1,
      "metadata": {
        "id": "UBMdVF9JIj9s"
      },
      "outputs": [],
      "source": [
        "import tensorflow as tf\n",
        "from tensorflow import keras\n",
        "from tensorflow.keras import datasets, layers, models\n",
        "from keras.models import Sequential\n",
        "from tensorflow.keras.layers import Dense, Flatten, Conv2D, MaxPooling2D, Dropout, BatchNormalization, LeakyReLU, Activation\n",
        "import matplotlib.pyplot as plt\n",
        "import numpy as np\n",
        "from tensorflow.keras import datasets\n",
        "from sklearn.model_selection import train_test_split\n",
        "\n",
        "from keras.optimizers import SGD"
      ]
    },
    {
      "cell_type": "code",
      "source": [
        "(x_train, y_train), (x_test, y_test) = datasets.cifar10.load_data()\n",
        "\n",
        "print('x_train shape:', x_train.shape)\n",
        "print('y_train shape:', y_train.shape)\n",
        "print(x_train.shape[0], 'train samples')\n",
        "print(x_test.shape[0], 'test samples')"
      ],
      "metadata": {
        "id": "3z0SYk-PI8sM",
        "colab": {
          "base_uri": "https://localhost:8080/"
        },
        "outputId": "8e575aca-ec12-4e0e-8c24-e89077a1319b"
      },
      "execution_count": 2,
      "outputs": [
        {
          "output_type": "stream",
          "name": "stdout",
          "text": [
            "Downloading data from https://www.cs.toronto.edu/~kriz/cifar-10-python.tar.gz\n",
            "170498071/170498071 [==============================] - 2s 0us/step\n",
            "x_train shape: (50000, 32, 32, 3)\n",
            "y_train shape: (50000, 1)\n",
            "50000 train samples\n",
            "10000 test samples\n"
          ]
        }
      ]
    },
    {
      "cell_type": "code",
      "source": [
        "x_train, x_val, y_train, y_val = train_test_split(x_train, y_train, test_size = 0.3, random_state = 42)\n",
        "\n",
        "x_train.shape, x_val.shape, y_train.shape, y_val.shape"
      ],
      "metadata": {
        "colab": {
          "base_uri": "https://localhost:8080/"
        },
        "id": "WDMf88jBrJit",
        "outputId": "b2aba191-b07a-4e27-a1f2-ea5344b6bcc2"
      },
      "execution_count": 3,
      "outputs": [
        {
          "output_type": "execute_result",
          "data": {
            "text/plain": [
              "((35000, 32, 32, 3), (15000, 32, 32, 3), (35000, 1), (15000, 1))"
            ]
          },
          "metadata": {},
          "execution_count": 3
        }
      ]
    },
    {
      "cell_type": "code",
      "source": [
        "# Convert class vectors to binary class matrices. This is called one hot encoding.\n",
        "num_classes = 10\n",
        "\n",
        "y_train = keras.utils.to_categorical(y_train, num_classes)\n",
        "y_test = keras.utils.to_categorical(y_test, num_classes)\n",
        "y_val = keras.utils.to_categorical(y_val, num_classes)\n",
        "print(y_train.shape, y_val.shape)"
      ],
      "metadata": {
        "colab": {
          "base_uri": "https://localhost:8080/"
        },
        "id": "qIWcK4JsW-HZ",
        "outputId": "968cb5f7-d39a-46de-b890-b3bafe5d7d62"
      },
      "execution_count": 4,
      "outputs": [
        {
          "output_type": "stream",
          "name": "stdout",
          "text": [
            "(35000, 10) (15000, 10)\n"
          ]
        }
      ]
    },
    {
      "cell_type": "code",
      "source": [
        "# Normalize the data. Before we need to convert data type to float for computation.\n",
        "x_train = x_train.astype('float32')\n",
        "x_test = x_test.astype('float32')\n",
        "\n",
        "x_train /= 255\n",
        "x_test /= 255"
      ],
      "metadata": {
        "id": "MdjFgE6K1nCQ"
      },
      "execution_count": 5,
      "outputs": []
    },
    {
      "cell_type": "code",
      "source": [
        "print(x_train.shape)\n",
        "print(y_train.shape)"
      ],
      "metadata": {
        "colab": {
          "base_uri": "https://localhost:8080/"
        },
        "id": "dBeizv963fPA",
        "outputId": "7ccddfd8-d2e5-42fc-9c42-bf4572b3d3d3"
      },
      "execution_count": 6,
      "outputs": [
        {
          "output_type": "stream",
          "name": "stdout",
          "text": [
            "(35000, 32, 32, 3)\n",
            "(35000, 10)\n"
          ]
        }
      ]
    },
    {
      "cell_type": "code",
      "source": [
        "from tensorflow.keras.regularizers import l2\n",
        "\n",
        "\n",
        "model = Sequential()\n",
        "\n",
        "model.add(Conv2D(32, (3, 3), input_shape=(32, 32, 3), kernel_regularizer=l2(0.001)))\n",
        "model.add(BatchNormalization())\n",
        "model.add(Activation('relu'))\n",
        "\n",
        "model.add(Conv2D(64, (3, 3), kernel_regularizer=l2(0.001)))\n",
        "model.add(BatchNormalization())\n",
        "model.add(Activation('relu'))\n",
        "\n",
        "model.add(MaxPooling2D(pool_size=(2, 2)))\n",
        "\n",
        "model.add(Conv2D(128, (3, 3), kernel_regularizer=l2(0.001)))\n",
        "model.add(BatchNormalization())\n",
        "model.add(Activation('relu'))\n",
        "\n",
        "model.add(Conv2D(256, (3, 3), kernel_regularizer=l2(0.001)))\n",
        "model.add(BatchNormalization())\n",
        "model.add(Activation('relu'))\n",
        "\n",
        "model.add(MaxPooling2D(pool_size=(2, 2)))\n",
        "model.add(Dropout(0.3))\n",
        "\n",
        "model.add(Conv2D(256, (3, 3), kernel_regularizer=l2(0.001)))\n",
        "model.add(BatchNormalization())\n",
        "model.add(Activation('relu'))\n",
        "\n",
        "model.add(Conv2D(512, (3, 3), kernel_regularizer=l2(0.001)))\n",
        "model.add(BatchNormalization())\n",
        "model.add(Activation('relu'))\n",
        "\n",
        "model.add(Flatten())\n",
        "\n",
        "model.add(Dense(256, kernel_regularizer=l2(0.001)))\n",
        "model.add(BatchNormalization())\n",
        "model.add(Activation('relu'))\n",
        "model.add(Dropout(0.5))\n",
        "\n",
        "model.add(Dense(10, activation='softmax'))\n",
        "\n",
        "model.summary()"
      ],
      "metadata": {
        "id": "uoaFeQ-znHd2",
        "colab": {
          "base_uri": "https://localhost:8080/"
        },
        "outputId": "9d3db9c0-e83f-4e59-df49-fa45798881b8"
      },
      "execution_count": 7,
      "outputs": [
        {
          "output_type": "stream",
          "name": "stdout",
          "text": [
            "Model: \"sequential\"\n",
            "_________________________________________________________________\n",
            " Layer (type)                Output Shape              Param #   \n",
            "=================================================================\n",
            " conv2d (Conv2D)             (None, 30, 30, 32)        896       \n",
            "                                                                 \n",
            " batch_normalization (BatchN  (None, 30, 30, 32)       128       \n",
            " ormalization)                                                   \n",
            "                                                                 \n",
            " activation (Activation)     (None, 30, 30, 32)        0         \n",
            "                                                                 \n",
            " conv2d_1 (Conv2D)           (None, 28, 28, 64)        18496     \n",
            "                                                                 \n",
            " batch_normalization_1 (Batc  (None, 28, 28, 64)       256       \n",
            " hNormalization)                                                 \n",
            "                                                                 \n",
            " activation_1 (Activation)   (None, 28, 28, 64)        0         \n",
            "                                                                 \n",
            " max_pooling2d (MaxPooling2D  (None, 14, 14, 64)       0         \n",
            " )                                                               \n",
            "                                                                 \n",
            " conv2d_2 (Conv2D)           (None, 12, 12, 128)       73856     \n",
            "                                                                 \n",
            " batch_normalization_2 (Batc  (None, 12, 12, 128)      512       \n",
            " hNormalization)                                                 \n",
            "                                                                 \n",
            " activation_2 (Activation)   (None, 12, 12, 128)       0         \n",
            "                                                                 \n",
            " conv2d_3 (Conv2D)           (None, 10, 10, 256)       295168    \n",
            "                                                                 \n",
            " batch_normalization_3 (Batc  (None, 10, 10, 256)      1024      \n",
            " hNormalization)                                                 \n",
            "                                                                 \n",
            " activation_3 (Activation)   (None, 10, 10, 256)       0         \n",
            "                                                                 \n",
            " max_pooling2d_1 (MaxPooling  (None, 5, 5, 256)        0         \n",
            " 2D)                                                             \n",
            "                                                                 \n",
            " dropout (Dropout)           (None, 5, 5, 256)         0         \n",
            "                                                                 \n",
            " conv2d_4 (Conv2D)           (None, 3, 3, 256)         590080    \n",
            "                                                                 \n",
            " batch_normalization_4 (Batc  (None, 3, 3, 256)        1024      \n",
            " hNormalization)                                                 \n",
            "                                                                 \n",
            " activation_4 (Activation)   (None, 3, 3, 256)         0         \n",
            "                                                                 \n",
            " conv2d_5 (Conv2D)           (None, 1, 1, 512)         1180160   \n",
            "                                                                 \n",
            " batch_normalization_5 (Batc  (None, 1, 1, 512)        2048      \n",
            " hNormalization)                                                 \n",
            "                                                                 \n",
            " activation_5 (Activation)   (None, 1, 1, 512)         0         \n",
            "                                                                 \n",
            " flatten (Flatten)           (None, 512)               0         \n",
            "                                                                 \n",
            " dense (Dense)               (None, 256)               131328    \n",
            "                                                                 \n",
            " batch_normalization_6 (Batc  (None, 256)              1024      \n",
            " hNormalization)                                                 \n",
            "                                                                 \n",
            " activation_6 (Activation)   (None, 256)               0         \n",
            "                                                                 \n",
            " dropout_1 (Dropout)         (None, 256)               0         \n",
            "                                                                 \n",
            " dense_1 (Dense)             (None, 10)                2570      \n",
            "                                                                 \n",
            "=================================================================\n",
            "Total params: 2,298,570\n",
            "Trainable params: 2,295,562\n",
            "Non-trainable params: 3,008\n",
            "_________________________________________________________________\n"
          ]
        }
      ]
    },
    {
      "cell_type": "code",
      "source": [
        "from tensorflow.keras.optimizers import Adam\n",
        "\n",
        "optimizer = Adam(learning_rate=0.001)\n",
        "\n",
        "model.compile(optimizer=optimizer,\n",
        "              loss='categorical_crossentropy',\n",
        "              metrics=['accuracy'])"
      ],
      "metadata": {
        "id": "ciVsgv3vdmaK"
      },
      "execution_count": 8,
      "outputs": []
    },
    {
      "cell_type": "code",
      "source": [
        "from tensorflow.keras.callbacks import ReduceLROnPlateau\n",
        "from tensorflow.keras.preprocessing.image import ImageDataGenerator\n",
        "from tensorflow.keras.callbacks import EarlyStopping\n",
        "\n",
        "datagen = ImageDataGenerator(\n",
        "    rotation_range=20,\n",
        "    width_shift_range=0.2,\n",
        "    height_shift_range=0.2,\n",
        "    horizontal_flip=True,\n",
        "    validation_split=0.2\n",
        ")\n",
        "\n",
        "datagen.fit(x_train)\n",
        "\n",
        "early_stopping = EarlyStopping(monitor='val_accuracy', patience=10, restore_best_weights=True)\n",
        "\n",
        "history = model.fit(\n",
        "    datagen.flow(x_train, y_train, batch_size=128, subset='training'),\n",
        "    epochs=50,\n",
        "    validation_data=datagen.flow(x_train, y_train, batch_size=128, subset='validation'),\n",
        "    callbacks=[early_stopping]\n",
        ")"
      ],
      "metadata": {
        "colab": {
          "base_uri": "https://localhost:8080/"
        },
        "id": "1iFlMt3FrUzQ",
        "outputId": "8ef88aaf-b9cb-403e-88d1-9faf28cec810"
      },
      "execution_count": 9,
      "outputs": [
        {
          "output_type": "stream",
          "name": "stdout",
          "text": [
            "Epoch 1/50\n",
            "219/219 [==============================] - 38s 105ms/step - loss: 3.0747 - accuracy: 0.3469 - val_loss: 3.7612 - val_accuracy: 0.1260\n",
            "Epoch 2/50\n",
            "219/219 [==============================] - 22s 102ms/step - loss: 2.4284 - accuracy: 0.4752 - val_loss: 3.2031 - val_accuracy: 0.2471\n",
            "Epoch 3/50\n",
            "219/219 [==============================] - 21s 97ms/step - loss: 2.0205 - accuracy: 0.5354 - val_loss: 2.3096 - val_accuracy: 0.4250\n",
            "Epoch 4/50\n",
            "219/219 [==============================] - 21s 97ms/step - loss: 1.7482 - accuracy: 0.5756 - val_loss: 1.9253 - val_accuracy: 0.4983\n",
            "Epoch 5/50\n",
            "219/219 [==============================] - 21s 96ms/step - loss: 1.5937 - accuracy: 0.5962 - val_loss: 2.2431 - val_accuracy: 0.4111\n",
            "Epoch 6/50\n",
            "219/219 [==============================] - 21s 96ms/step - loss: 1.4923 - accuracy: 0.6146 - val_loss: 1.7520 - val_accuracy: 0.5044\n",
            "Epoch 7/50\n",
            "219/219 [==============================] - 20s 92ms/step - loss: 1.4285 - accuracy: 0.6283 - val_loss: 1.6362 - val_accuracy: 0.5506\n",
            "Epoch 8/50\n",
            "219/219 [==============================] - 21s 96ms/step - loss: 1.4050 - accuracy: 0.6375 - val_loss: 1.8755 - val_accuracy: 0.4777\n",
            "Epoch 9/50\n",
            "219/219 [==============================] - 21s 95ms/step - loss: 1.3675 - accuracy: 0.6489 - val_loss: 1.6497 - val_accuracy: 0.5490\n",
            "Epoch 10/50\n",
            "219/219 [==============================] - 22s 101ms/step - loss: 1.3590 - accuracy: 0.6519 - val_loss: 1.6526 - val_accuracy: 0.5596\n",
            "Epoch 11/50\n",
            "219/219 [==============================] - 20s 92ms/step - loss: 1.3396 - accuracy: 0.6608 - val_loss: 1.7551 - val_accuracy: 0.5436\n",
            "Epoch 12/50\n",
            "219/219 [==============================] - 21s 96ms/step - loss: 1.3424 - accuracy: 0.6622 - val_loss: 1.8009 - val_accuracy: 0.5271\n",
            "Epoch 13/50\n",
            "219/219 [==============================] - 21s 96ms/step - loss: 1.3232 - accuracy: 0.6708 - val_loss: 1.6799 - val_accuracy: 0.5343\n",
            "Epoch 14/50\n",
            "219/219 [==============================] - 20s 93ms/step - loss: 1.3217 - accuracy: 0.6752 - val_loss: 1.6963 - val_accuracy: 0.5573\n",
            "Epoch 15/50\n",
            "219/219 [==============================] - 21s 96ms/step - loss: 1.3085 - accuracy: 0.6765 - val_loss: 1.7234 - val_accuracy: 0.5324\n",
            "Epoch 16/50\n",
            "219/219 [==============================] - 21s 96ms/step - loss: 1.3199 - accuracy: 0.6808 - val_loss: 1.5523 - val_accuracy: 0.5940\n",
            "Epoch 17/50\n",
            "219/219 [==============================] - 20s 92ms/step - loss: 1.2949 - accuracy: 0.6918 - val_loss: 1.4754 - val_accuracy: 0.6243\n",
            "Epoch 18/50\n",
            "219/219 [==============================] - 21s 96ms/step - loss: 1.2931 - accuracy: 0.6927 - val_loss: 1.6050 - val_accuracy: 0.5806\n",
            "Epoch 19/50\n",
            "219/219 [==============================] - 22s 101ms/step - loss: 1.2880 - accuracy: 0.6946 - val_loss: 1.6574 - val_accuracy: 0.5636\n",
            "Epoch 20/50\n",
            "219/219 [==============================] - 20s 90ms/step - loss: 1.2861 - accuracy: 0.6976 - val_loss: 1.6888 - val_accuracy: 0.5631\n",
            "Epoch 21/50\n",
            "219/219 [==============================] - 21s 95ms/step - loss: 1.2771 - accuracy: 0.7016 - val_loss: 2.5265 - val_accuracy: 0.4060\n",
            "Epoch 22/50\n",
            "219/219 [==============================] - 20s 91ms/step - loss: 1.2838 - accuracy: 0.7015 - val_loss: 1.8510 - val_accuracy: 0.5339\n",
            "Epoch 23/50\n",
            "219/219 [==============================] - 21s 95ms/step - loss: 1.2572 - accuracy: 0.7117 - val_loss: 1.4610 - val_accuracy: 0.6317\n",
            "Epoch 24/50\n",
            "219/219 [==============================] - 22s 100ms/step - loss: 1.2631 - accuracy: 0.7101 - val_loss: 1.8746 - val_accuracy: 0.5421\n",
            "Epoch 25/50\n",
            "219/219 [==============================] - 21s 95ms/step - loss: 1.2541 - accuracy: 0.7163 - val_loss: 1.7044 - val_accuracy: 0.5820\n",
            "Epoch 26/50\n",
            "219/219 [==============================] - 21s 95ms/step - loss: 1.2424 - accuracy: 0.7159 - val_loss: 1.6152 - val_accuracy: 0.5950\n",
            "Epoch 27/50\n",
            "219/219 [==============================] - 20s 91ms/step - loss: 1.2343 - accuracy: 0.7196 - val_loss: 1.8053 - val_accuracy: 0.5501\n",
            "Epoch 28/50\n",
            "219/219 [==============================] - 21s 95ms/step - loss: 1.2333 - accuracy: 0.7209 - val_loss: 1.7363 - val_accuracy: 0.5603\n",
            "Epoch 29/50\n",
            "219/219 [==============================] - 21s 95ms/step - loss: 1.2148 - accuracy: 0.7305 - val_loss: 1.8216 - val_accuracy: 0.5444\n",
            "Epoch 30/50\n",
            "219/219 [==============================] - 20s 92ms/step - loss: 1.2123 - accuracy: 0.7326 - val_loss: 1.6015 - val_accuracy: 0.6229\n",
            "Epoch 31/50\n",
            "219/219 [==============================] - 21s 95ms/step - loss: 1.2091 - accuracy: 0.7306 - val_loss: 1.3400 - val_accuracy: 0.6751\n",
            "Epoch 32/50\n",
            "219/219 [==============================] - 21s 95ms/step - loss: 1.2082 - accuracy: 0.7307 - val_loss: 1.4125 - val_accuracy: 0.6617\n",
            "Epoch 33/50\n",
            "219/219 [==============================] - 21s 96ms/step - loss: 1.1934 - accuracy: 0.7354 - val_loss: 1.7932 - val_accuracy: 0.5773\n",
            "Epoch 34/50\n",
            "219/219 [==============================] - 21s 96ms/step - loss: 1.1777 - accuracy: 0.7419 - val_loss: 1.4633 - val_accuracy: 0.6674\n",
            "Epoch 35/50\n",
            "219/219 [==============================] - 20s 92ms/step - loss: 1.1701 - accuracy: 0.7421 - val_loss: 1.5282 - val_accuracy: 0.6239\n",
            "Epoch 36/50\n",
            "219/219 [==============================] - 21s 97ms/step - loss: 1.1741 - accuracy: 0.7427 - val_loss: 1.4301 - val_accuracy: 0.6587\n",
            "Epoch 37/50\n",
            "219/219 [==============================] - 21s 96ms/step - loss: 1.1648 - accuracy: 0.7453 - val_loss: 1.6504 - val_accuracy: 0.5940\n",
            "Epoch 38/50\n",
            "219/219 [==============================] - 20s 91ms/step - loss: 1.1531 - accuracy: 0.7483 - val_loss: 1.4735 - val_accuracy: 0.6371\n",
            "Epoch 39/50\n",
            "219/219 [==============================] - 21s 95ms/step - loss: 1.1513 - accuracy: 0.7506 - val_loss: 1.3175 - val_accuracy: 0.6923\n",
            "Epoch 40/50\n",
            "219/219 [==============================] - 21s 95ms/step - loss: 1.1338 - accuracy: 0.7529 - val_loss: 1.4594 - val_accuracy: 0.6473\n",
            "Epoch 41/50\n",
            "219/219 [==============================] - 20s 92ms/step - loss: 1.1362 - accuracy: 0.7526 - val_loss: 1.8082 - val_accuracy: 0.5674\n",
            "Epoch 42/50\n",
            "219/219 [==============================] - 21s 96ms/step - loss: 1.1252 - accuracy: 0.7556 - val_loss: 1.3639 - val_accuracy: 0.6706\n",
            "Epoch 43/50\n",
            "219/219 [==============================] - 21s 97ms/step - loss: 1.1360 - accuracy: 0.7520 - val_loss: 1.5187 - val_accuracy: 0.6124\n",
            "Epoch 44/50\n",
            "219/219 [==============================] - 20s 92ms/step - loss: 1.1196 - accuracy: 0.7584 - val_loss: 1.5240 - val_accuracy: 0.6244\n",
            "Epoch 45/50\n",
            "219/219 [==============================] - 21s 98ms/step - loss: 1.1197 - accuracy: 0.7595 - val_loss: 1.3139 - val_accuracy: 0.6864\n",
            "Epoch 46/50\n",
            "219/219 [==============================] - 21s 97ms/step - loss: 1.1150 - accuracy: 0.7609 - val_loss: 1.5332 - val_accuracy: 0.6261\n",
            "Epoch 47/50\n",
            "219/219 [==============================] - 21s 96ms/step - loss: 1.1000 - accuracy: 0.7601 - val_loss: 1.5499 - val_accuracy: 0.6163\n",
            "Epoch 48/50\n",
            "219/219 [==============================] - 22s 100ms/step - loss: 1.0839 - accuracy: 0.7681 - val_loss: 1.5365 - val_accuracy: 0.6324\n",
            "Epoch 49/50\n",
            "219/219 [==============================] - 20s 92ms/step - loss: 1.0935 - accuracy: 0.7673 - val_loss: 1.3080 - val_accuracy: 0.6873\n"
          ]
        }
      ]
    },
    {
      "cell_type": "code",
      "source": [
        "test_eval = model.evaluate(x_test, y_test, verbose=2)\n",
        "\n",
        "print('Test loss:', test_eval[0])\n",
        "print('Test accuracy:', test_eval[1])"
      ],
      "metadata": {
        "colab": {
          "base_uri": "https://localhost:8080/"
        },
        "id": "rTttzjVSzY8R",
        "outputId": "1fe40c5e-ba6a-44a3-e90d-0286adc046cb"
      },
      "execution_count": 10,
      "outputs": [
        {
          "output_type": "stream",
          "name": "stdout",
          "text": [
            "313/313 - 3s - loss: 1.2385 - accuracy: 0.7280 - 3s/epoch - 9ms/step\n",
            "Test loss: 1.2384769916534424\n",
            "Test accuracy: 0.7279999852180481\n"
          ]
        }
      ]
    },
    {
      "cell_type": "code",
      "source": [
        "val_eval = model.evaluate(x_val, y_val, verbose=2)\n",
        "\n",
        "print('Val loss:', val_eval[0])\n",
        "print('Val accuracy:', val_eval[1])"
      ],
      "metadata": {
        "colab": {
          "base_uri": "https://localhost:8080/"
        },
        "id": "cyU39GDFpGUg",
        "outputId": "7e2caa42-ebd9-417a-fd8c-1d500ce6090f"
      },
      "execution_count": 11,
      "outputs": [
        {
          "output_type": "stream",
          "name": "stdout",
          "text": [
            "469/469 - 2s - loss: 219.1545 - accuracy: 0.2029 - 2s/epoch - 5ms/step\n",
            "Val loss: 219.1544647216797\n",
            "Val accuracy: 0.20293332636356354\n"
          ]
        }
      ]
    },
    {
      "cell_type": "code",
      "source": [
        "train_eval = model.evaluate(x_train, y_train, verbose=2)\n",
        "\n",
        "print('Train loss:', train_eval[0])\n",
        "print('Train accuracy:', train_eval[1])"
      ],
      "metadata": {
        "colab": {
          "base_uri": "https://localhost:8080/"
        },
        "id": "h7G3_iKLAqcH",
        "outputId": "681e15b5-c8ac-4874-bdd4-a676e4596c89"
      },
      "execution_count": 12,
      "outputs": [
        {
          "output_type": "stream",
          "name": "stdout",
          "text": [
            "1094/1094 - 4s - loss: 1.1656 - accuracy: 0.7455 - 4s/epoch - 4ms/step\n",
            "Train loss: 1.165619969367981\n",
            "Train accuracy: 0.7454571723937988\n"
          ]
        }
      ]
    },
    {
      "cell_type": "code",
      "source": [
        "def plotmodelhistory(history):\n",
        "    fig, axs = plt.subplots(1,2,figsize=(15,5))\n",
        "    # summarize history for accuracy\n",
        "    axs[0].plot(history.history['accuracy'])\n",
        "    axs[0].plot(history.history['val_accuracy'])\n",
        "    axs[0].set_title('Model Accuracy')\n",
        "    axs[0].set_ylabel('Accuracy')\n",
        "    axs[0].set_xlabel('Epoch')\n",
        "    axs[0].legend(['train', 'validate'], loc='upper left')\n",
        "    # summarize history for loss\n",
        "    axs[1].plot(history.history['loss'])\n",
        "    axs[1].plot(history.history['val_loss'])\n",
        "    axs[1].set_title('Model Loss')\n",
        "    axs[1].set_ylabel('Loss')\n",
        "    axs[1].set_xlabel('Epoch')\n",
        "    axs[1].legend(['train', 'validate'], loc='upper left')\n",
        "    plt.show()\n",
        "\n",
        "# list all data in history\n",
        "print(history.history.keys())\n",
        "\n",
        "plotmodelhistory(history)"
      ],
      "metadata": {
        "colab": {
          "base_uri": "https://localhost:8080/",
          "height": 504
        },
        "id": "_j4ZhaLaqzwR",
        "outputId": "9fb1b721-cb4e-4fc5-ed93-7b2a44869235"
      },
      "execution_count": 13,
      "outputs": [
        {
          "output_type": "stream",
          "name": "stdout",
          "text": [
            "dict_keys(['loss', 'accuracy', 'val_loss', 'val_accuracy'])\n"
          ]
        },
        {
          "output_type": "display_data",
          "data": {
            "text/plain": [
              "<Figure size 1500x500 with 2 Axes>"
            ],
            "image/png": "[encoded data removed]"
          },
          "metadata": {}
        }
      ]
    },
    {
      "cell_type": "code",
      "source": [
        "predicted_classes = model.predict(x_test)\n",
        "predicted_classes = np.argmax(np.round(predicted_classes), axis = 1)\n",
        "predicted_classes.shape, y_test.shape"
      ],
      "metadata": {
        "colab": {
          "base_uri": "https://localhost:8080/"
        },
        "id": "sMXDA4MiAzch",
        "outputId": "ae15bd2a-29e8-4d14-f52b-55a3573b90fa"
      },
      "execution_count": null,
      "outputs": [
        {
          "output_type": "stream",
          "name": "stdout",
          "text": [
            "313/313 [==============================] - 1s 3ms/step\n"
          ]
        },
        {
          "output_type": "execute_result",
          "data": {
            "text/plain": [
              "((10000,), (10000, 10))"
            ]
          },
          "metadata": {},
          "execution_count": 46
        }
      ]
    }
  ]
}